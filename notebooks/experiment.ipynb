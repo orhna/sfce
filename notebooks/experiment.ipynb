{
 "cells": [
  {
   "cell_type": "code",
   "execution_count": 8,
   "metadata": {},
   "outputs": [
    {
     "name": "stdout",
     "output_type": "stream",
     "text": [
      "GPU is available and configured\n",
      "\n",
      "GPU Devices: [PhysicalDevice(name='/physical_device:GPU:0', device_type='GPU')]\n"
     ]
    }
   ],
   "source": [
    "import numpy as np\n",
    "import tensorflow as tf\n",
    "import tensorflow_hub as hub\n",
    "import librosa\n",
    "import csv\n",
    "import io\n",
    "from tqdm import tqdm\n",
    "\n",
    "# Configure GPU memory growth\n",
    "physical_devices = tf.config.list_physical_devices('GPU')\n",
    "if len(physical_devices) > 0:\n",
    "    for device in physical_devices:\n",
    "        tf.config.experimental.set_memory_growth(device, True)\n",
    "    print(\"GPU is available and configured\")\n",
    "else:\n",
    "    print(\"No GPU detected. Running on CPU\")\n",
    "\n",
    "def process_audio_chunk(model, audio_chunk, class_names, threshold=0.5):\n",
    "    \"\"\"\n",
    "    Process a single chunk of audio data\n",
    "    \"\"\"\n",
    "    with tf.device('/GPU:0'):\n",
    "        scores, embeddings, spectrogram = model(audio_chunk)\n",
    "    \n",
    "    # Find laugh-related classes\n",
    "    laugh_indices = [i for i, name in enumerate(class_names) if 'laugh' in name.lower()]\n",
    "    \n",
    "    # Get timestamps where laughs were detected\n",
    "    timestamps = []\n",
    "    frame_duration = 0.025  # YAMNet uses 25ms frames\n",
    "    \n",
    "    # Process scores\n",
    "    with tf.device('/GPU:0'):\n",
    "        scores_np = scores.numpy()\n",
    "        \n",
    "    for frame_idx in range(len(scores_np)):\n",
    "        if any(scores_np[frame_idx, idx] > threshold for idx in laugh_indices):\n",
    "            time = frame_idx * frame_duration\n",
    "            timestamps.append({\n",
    "                'time': time,\n",
    "                'confidence': float(max(scores_np[frame_idx, laugh_indices]))\n",
    "            })\n",
    "    \n",
    "    return timestamps\n",
    "\n",
    "# Print GPU information\n",
    "print(\"\\nGPU Devices:\", tf.config.list_physical_devices('GPU'))\n",
    "\n",
    "def detect_laughs_yamnet(audio_path, chunk_duration=10, threshold=0.5):\n",
    "    \"\"\"\n",
    "    Detect laughs in audio using YAMNet, processing the audio in chunks\n",
    "    \"\"\"\n",
    "    # Load the model\n",
    "    with tf.device('/GPU:0'):\n",
    "        model = hub.load('https://tfhub.dev/google/yamnet/1')\n",
    "    \n",
    "    # Get class names once\n",
    "    class_map_path = model.class_map_path().numpy()\n",
    "    class_map_csv = io.StringIO(tf.io.read_file(class_map_path).numpy().decode('utf-8'))\n",
    "    class_names = [display_name for (class_index, mid, display_name) in csv.reader(class_map_csv)]\n",
    "    \n",
    "    # Load audio file\n",
    "    audio, sr = librosa.load(audio_path, sr=16000)  # YAMNet expects 16kHz\n",
    "    \n",
    "    # Calculate chunk size in samples\n",
    "    chunk_size = int(chunk_duration * sr)\n",
    "    \n",
    "    # Process audio in chunks\n",
    "    all_timestamps = []\n",
    "    for chunk_start in tqdm(range(0, len(audio), chunk_size)):\n",
    "        # Get chunk\n",
    "        chunk = audio[chunk_start:chunk_start + chunk_size]\n",
    "        \n",
    "        # If the chunk is too short (last chunk), pad it\n",
    "        if len(chunk) < chunk_size:\n",
    "            chunk = np.pad(chunk, (0, chunk_size - len(chunk)))\n",
    "        \n",
    "        # Convert to tensor\n",
    "        chunk_tensor = tf.convert_to_tensor(chunk, dtype=tf.float32)\n",
    "        \n",
    "        # Process chunk\n",
    "        chunk_timestamps = process_audio_chunk(model, chunk_tensor, class_names, threshold)\n",
    "        \n",
    "        # Adjust timestamps to account for chunk position\n",
    "        chunk_start_time = chunk_start / sr\n",
    "        for ts in chunk_timestamps:\n",
    "            ts['time'] += chunk_start_time\n",
    "        \n",
    "        all_timestamps.extend(chunk_timestamps)\n",
    "    \n",
    "    # Sort timestamps by time\n",
    "    all_timestamps.sort(key=lambda x: x['time'])\n",
    "    \n",
    "    return all_timestamps"
   ]
  },
  {
   "cell_type": "code",
   "execution_count": 9,
   "metadata": {},
   "outputs": [
    {
     "name": "stderr",
     "output_type": "stream",
     "text": [
      "100%|██████████| 8484/8484 [00:31<00:00, 266.21it/s]"
     ]
    },
    {
     "name": "stdout",
     "output_type": "stream",
     "text": [
      "Laugh detected at 00:57:28.00 (confidence: 45.69%)\n",
      "Laugh detected at 01:17:58.00 (confidence: 32.13%)\n",
      "Laugh detected at 01:53:42.00 (confidence: 40.21%)\n",
      "Laugh detected at 01:53:42.02 (confidence: 39.74%)\n",
      "Laugh detected at 02:21:52.02 (confidence: 30.46%)\n",
      "Laugh detected at 02:21:52.05 (confidence: 48.99%)\n",
      "Laugh detected at 02:49:30.02 (confidence: 30.48%)\n",
      "Laugh detected at 03:27:46.05 (confidence: 39.57%)\n",
      "Laugh detected at 03:28:42.08 (confidence: 50.64%)\n",
      "Laugh detected at 03:28:52.05 (confidence: 50.91%)\n",
      "Laugh detected at 03:40:36.02 (confidence: 30.42%)\n",
      "Laugh detected at 03:40:36.05 (confidence: 31.60%)\n",
      "Laugh detected at 03:40:40.05 (confidence: 68.04%)\n",
      "Laugh detected at 03:42:36.00 (confidence: 43.88%)\n",
      "Laugh detected at 03:49:46.05 (confidence: 33.60%)\n",
      "Laugh detected at 04:08:42.05 (confidence: 39.56%)\n",
      "Laugh detected at 04:09:58.00 (confidence: 39.76%)\n",
      "Laugh detected at 04:10:00.00 (confidence: 39.65%)\n",
      "Laugh detected at 04:20:22.05 (confidence: 30.15%)\n",
      "Laugh detected at 04:21:18.02 (confidence: 56.34%)\n",
      "Laugh detected at 04:21:18.05 (confidence: 54.03%)\n"
     ]
    },
    {
     "name": "stderr",
     "output_type": "stream",
     "text": [
      "\n"
     ]
    }
   ],
   "source": [
    "# Test with your audio file\n",
    "audio_file = \"/mnt/d/Projects/kick_videos/audio.wav\"  # Your audio file path\n",
    "laugh_segments = detect_laughs_yamnet(audio_file, chunk_duration=2, threshold=0.3)  # Process in 10-second chunks\n",
    "\n",
    "# Print results\n",
    "for segment in laugh_segments:\n",
    "    hours = int(segment['time'] // 3600)\n",
    "    minutes = int((segment['time'] % 3600) // 60)\n",
    "    seconds = segment['time'] % 60\n",
    "    print(f\"Laugh detected at {hours:02d}:{minutes:02d}:{seconds:05.2f} (confidence: {segment['confidence']:.2%})\")"
   ]
  },
  {
   "cell_type": "code",
   "execution_count": 2,
   "metadata": {},
   "outputs": [],
   "source": [
    "# Test with your audio file\n",
    "audio_file = \"/mnt/d/Projects/kick_videos/audio.wav\"  # Replace with your audio file path\n"
   ]
  },
  {
   "cell_type": "code",
   "execution_count": 3,
   "metadata": {},
   "outputs": [
    {
     "name": "stderr",
     "output_type": "stream",
     "text": [
      "I0000 00:00:1748517953.864046   11754 gpu_device.cc:2019] Created device /job:localhost/replica:0/task:0/device:GPU:0 with 5564 MB memory:  -> device: 0, name: NVIDIA GeForce RTX 3070, pci bus id: 0000:01:00.0, compute capability: 8.6\n",
      "2025-05-29 13:27:00.494403: W external/local_xla/xla/tsl/framework/bfc_allocator.cc:501] Allocator (GPU_0_bfc) ran out of memory trying to allocate 2.53GiB (rounded to 2714880000)requested by op StatefulPartitionedCall/yamnet_frames/tf_op_layer_GatherV2/GatherV2\n",
      "If the cause is memory fragmentation maybe the environment variable 'TF_GPU_ALLOCATOR=cuda_malloc_async' will improve the situation. \n",
      "Current allocation summary follows.\n",
      "Current allocation summary follows.\n",
      "2025-05-29 13:27:00.494441: I external/local_xla/xla/tsl/framework/bfc_allocator.cc:1058] BFCAllocator dump for GPU_0_bfc\n",
      "2025-05-29 13:27:00.494450: I external/local_xla/xla/tsl/framework/bfc_allocator.cc:1065] Bin (256): \tTotal Chunks: 18, Chunks in use: 18. 4.5KiB allocated for chunks. 4.5KiB in use in bin. 3.0KiB client-requested in use in bin.\n",
      "2025-05-29 13:27:00.494453: I external/local_xla/xla/tsl/framework/bfc_allocator.cc:1065] Bin (512): \tTotal Chunks: 16, Chunks in use: 16. 8.0KiB allocated for chunks. 8.0KiB in use in bin. 8.0KiB client-requested in use in bin.\n",
      "2025-05-29 13:27:00.494456: I external/local_xla/xla/tsl/framework/bfc_allocator.cc:1065] Bin (1024): \tTotal Chunks: 20, Chunks in use: 20. 21.5KiB allocated for chunks. 21.5KiB in use in bin. 20.8KiB client-requested in use in bin.\n",
      "2025-05-29 13:27:00.494459: I external/local_xla/xla/tsl/framework/bfc_allocator.cc:1065] Bin (2048): \tTotal Chunks: 50, Chunks in use: 50. 100.5KiB allocated for chunks. 100.5KiB in use in bin. 100.3KiB client-requested in use in bin.\n",
      "2025-05-29 13:27:00.494462: I external/local_xla/xla/tsl/framework/bfc_allocator.cc:1065] Bin (4096): \tTotal Chunks: 14, Chunks in use: 14. 57.0KiB allocated for chunks. 57.0KiB in use in bin. 57.0KiB client-requested in use in bin.\n",
      "2025-05-29 13:27:00.494464: I external/local_xla/xla/tsl/framework/bfc_allocator.cc:1065] Bin (8192): \tTotal Chunks: 3, Chunks in use: 3. 26.0KiB allocated for chunks. 26.0KiB in use in bin. 26.0KiB client-requested in use in bin.\n",
      "2025-05-29 13:27:00.494467: I external/local_xla/xla/tsl/framework/bfc_allocator.cc:1065] Bin (16384): \tTotal Chunks: 6, Chunks in use: 6. 108.0KiB allocated for chunks. 108.0KiB in use in bin. 108.0KiB client-requested in use in bin.\n",
      "2025-05-29 13:27:00.494470: I external/local_xla/xla/tsl/framework/bfc_allocator.cc:1065] Bin (32768): \tTotal Chunks: 2, Chunks in use: 2. 68.0KiB allocated for chunks. 68.0KiB in use in bin. 68.0KiB client-requested in use in bin.\n",
      "2025-05-29 13:27:00.494472: I external/local_xla/xla/tsl/framework/bfc_allocator.cc:1065] Bin (65536): \tTotal Chunks: 2, Chunks in use: 2. 128.2KiB allocated for chunks. 128.2KiB in use in bin. 128.2KiB client-requested in use in bin.\n",
      "2025-05-29 13:27:00.494475: I external/local_xla/xla/tsl/framework/bfc_allocator.cc:1065] Bin (131072): \tTotal Chunks: 1, Chunks in use: 1. 128.0KiB allocated for chunks. 128.0KiB in use in bin. 128.0KiB client-requested in use in bin.\n",
      "2025-05-29 13:27:00.494478: I external/local_xla/xla/tsl/framework/bfc_allocator.cc:1065] Bin (262144): \tTotal Chunks: 1, Chunks in use: 1. 256.0KiB allocated for chunks. 256.0KiB in use in bin. 256.0KiB client-requested in use in bin.\n",
      "2025-05-29 13:27:00.494480: I external/local_xla/xla/tsl/framework/bfc_allocator.cc:1065] Bin (524288): \tTotal Chunks: 2, Chunks in use: 1. 1.12MiB allocated for chunks. 512.0KiB in use in bin. 512.0KiB client-requested in use in bin.\n",
      "2025-05-29 13:27:00.494482: I external/local_xla/xla/tsl/framework/bfc_allocator.cc:1065] Bin (1048576): \tTotal Chunks: 5, Chunks in use: 5. 5.00MiB allocated for chunks. 5.00MiB in use in bin. 5.00MiB client-requested in use in bin.\n",
      "2025-05-29 13:27:00.494485: I external/local_xla/xla/tsl/framework/bfc_allocator.cc:1065] Bin (2097152): \tTotal Chunks: 2, Chunks in use: 2. 4.04MiB allocated for chunks. 4.04MiB in use in bin. 4.04MiB client-requested in use in bin.\n",
      "2025-05-29 13:27:00.494487: I external/local_xla/xla/tsl/framework/bfc_allocator.cc:1065] Bin (4194304): \tTotal Chunks: 1, Chunks in use: 1. 5.00MiB allocated for chunks. 5.00MiB in use in bin. 4.00MiB client-requested in use in bin.\n",
      "2025-05-29 13:27:00.494490: I external/local_xla/xla/tsl/framework/bfc_allocator.cc:1065] Bin (8388608): \tTotal Chunks: 1, Chunks in use: 0. 13.96MiB allocated for chunks. 0B in use in bin. 0B client-requested in use in bin.\n",
      "2025-05-29 13:27:00.494492: I external/local_xla/xla/tsl/framework/bfc_allocator.cc:1065] Bin (16777216): \tTotal Chunks: 0, Chunks in use: 0. 0B allocated for chunks. 0B in use in bin. 0B client-requested in use in bin.\n",
      "2025-05-29 13:27:00.494495: I external/local_xla/xla/tsl/framework/bfc_allocator.cc:1065] Bin (33554432): \tTotal Chunks: 1, Chunks in use: 1. 32.36MiB allocated for chunks. 32.36MiB in use in bin. 32.36MiB client-requested in use in bin.\n",
      "2025-05-29 13:27:00.494496: I external/local_xla/xla/tsl/framework/bfc_allocator.cc:1065] Bin (67108864): \tTotal Chunks: 0, Chunks in use: 0. 0B allocated for chunks. 0B in use in bin. 0B client-requested in use in bin.\n",
      "2025-05-29 13:27:00.494501: I external/local_xla/xla/tsl/framework/bfc_allocator.cc:1065] Bin (134217728): \tTotal Chunks: 0, Chunks in use: 0. 0B allocated for chunks. 0B in use in bin. 0B client-requested in use in bin.\n",
      "2025-05-29 13:27:00.494503: I external/local_xla/xla/tsl/framework/bfc_allocator.cc:1065] Bin (268435456): \tTotal Chunks: 4, Chunks in use: 2. 3.97GiB allocated for chunks. 2.02GiB in use in bin. 2.02GiB client-requested in use in bin.\n",
      "2025-05-29 13:27:00.494506: I external/local_xla/xla/tsl/framework/bfc_allocator.cc:1081] Bin for 2.53GiB was 256.00MiB, Chunk State: \n",
      "2025-05-29 13:27:00.494510: I external/local_xla/xla/tsl/framework/bfc_allocator.cc:1087]   Size: 979.99MiB | Requested Size: 0B | in_use: 0 | bin_num: 20, prev:   Size: 32.36MiB | Requested Size: 32.36MiB | in_use: 1 | bin_num: -1\n",
      "2025-05-29 13:27:00.494513: I external/local_xla/xla/tsl/framework/bfc_allocator.cc:1087]   Size: 1012.38MiB | Requested Size: 0B | in_use: 0 | bin_num: 20, prev:   Size: 1.01GiB | Requested Size: 1.01GiB | in_use: 1 | bin_num: -1\n",
      "2025-05-29 13:27:00.494515: I external/local_xla/xla/tsl/framework/bfc_allocator.cc:1094] Next region of size 2097152\n",
      "2025-05-29 13:27:00.494519: I external/local_xla/xla/tsl/framework/bfc_allocator.cc:1114] InUse at 709200000 of size 1280 next 1\n",
      "2025-05-29 13:27:00.494520: I external/local_xla/xla/tsl/framework/bfc_allocator.cc:1114] InUse at 709200500 of size 4096 next 2\n",
      "2025-05-29 13:27:00.494522: I external/local_xla/xla/tsl/framework/bfc_allocator.cc:1114] InUse at 709201500 of size 4096 next 3\n",
      "2025-05-29 13:27:00.494523: I external/local_xla/xla/tsl/framework/bfc_allocator.cc:1114] InUse at 709202500 of size 4096 next 4\n",
      "2025-05-29 13:27:00.494525: I external/local_xla/xla/tsl/framework/bfc_allocator.cc:1114] InUse at 709203500 of size 2048 next 5\n",
      "2025-05-29 13:27:00.494526: I external/local_xla/xla/tsl/framework/bfc_allocator.cc:1114] InUse at 709203d00 of size 2048 next 6\n",
      "2025-05-29 13:27:00.494527: I external/local_xla/xla/tsl/framework/bfc_allocator.cc:1114] InUse at 709204500 of size 2048 next 7\n",
      "2025-05-29 13:27:00.494529: I external/local_xla/xla/tsl/framework/bfc_allocator.cc:1114] InUse at 709204d00 of size 2048 next 8\n",
      "2025-05-29 13:27:00.494530: I external/local_xla/xla/tsl/framework/bfc_allocator.cc:1114] InUse at 709205500 of size 2048 next 9\n",
      "2025-05-29 13:27:00.494532: I external/local_xla/xla/tsl/framework/bfc_allocator.cc:1114] InUse at 709205d00 of size 2048 next 10\n",
      "2025-05-29 13:27:00.494533: I external/local_xla/xla/tsl/framework/bfc_allocator.cc:1114] InUse at 709206500 of size 2048 next 11\n",
      "2025-05-29 13:27:00.494534: I external/local_xla/xla/tsl/framework/bfc_allocator.cc:1114] InUse at 709206d00 of size 2048 next 12\n",
      "2025-05-29 13:27:00.494536: I external/local_xla/xla/tsl/framework/bfc_allocator.cc:1114] InUse at 709207500 of size 2048 next 13\n",
      "2025-05-29 13:27:00.494537: I external/local_xla/xla/tsl/framework/bfc_allocator.cc:1114] InUse at 709207d00 of size 2048 next 14\n",
      "2025-05-29 13:27:00.494538: I external/local_xla/xla/tsl/framework/bfc_allocator.cc:1114] InUse at 709208500 of size 2048 next 15\n",
      "2025-05-29 13:27:00.494540: I external/local_xla/xla/tsl/framework/bfc_allocator.cc:1114] InUse at 709208d00 of size 2048 next 16\n",
      "2025-05-29 13:27:00.494541: I external/local_xla/xla/tsl/framework/bfc_allocator.cc:1114] InUse at 709209500 of size 1024 next 17\n",
      "2025-05-29 13:27:00.494543: I external/local_xla/xla/tsl/framework/bfc_allocator.cc:1114] InUse at 709209900 of size 1024 next 18\n",
      "2025-05-29 13:27:00.494544: I external/local_xla/xla/tsl/framework/bfc_allocator.cc:1114] InUse at 709209d00 of size 1024 next 19\n",
      "2025-05-29 13:27:00.494546: I external/local_xla/xla/tsl/framework/bfc_allocator.cc:1114] InUse at 70920a100 of size 1024 next 20\n",
      "2025-05-29 13:27:00.494547: I external/local_xla/xla/tsl/framework/bfc_allocator.cc:1114] InUse at 70920a500 of size 512 next 21\n",
      "2025-05-29 13:27:00.494549: I external/local_xla/xla/tsl/framework/bfc_allocator.cc:1114] InUse at 70920a700 of size 512 next 22\n",
      "2025-05-29 13:27:00.494551: I external/local_xla/xla/tsl/framework/bfc_allocator.cc:1114] InUse at 70920a900 of size 512 next 23\n",
      "2025-05-29 13:27:00.494552: I external/local_xla/xla/tsl/framework/bfc_allocator.cc:1114] InUse at 70920ab00 of size 512 next 24\n",
      "2025-05-29 13:27:00.494553: I external/local_xla/xla/tsl/framework/bfc_allocator.cc:1114] InUse at 70920ad00 of size 256 next 25\n",
      "2025-05-29 13:27:00.494555: I external/local_xla/xla/tsl/framework/bfc_allocator.cc:1114] InUse at 70920ae00 of size 256 next 26\n",
      "2025-05-29 13:27:00.494556: I external/local_xla/xla/tsl/framework/bfc_allocator.cc:1114] InUse at 70920af00 of size 256 next 27\n",
      "2025-05-29 13:27:00.494558: I external/local_xla/xla/tsl/framework/bfc_allocator.cc:1114] InUse at 70920b000 of size 256 next 28\n",
      "2025-05-29 13:27:00.494559: I external/local_xla/xla/tsl/framework/bfc_allocator.cc:1114] InUse at 70920b100 of size 1280 next 29\n",
      "2025-05-29 13:27:00.494560: I external/local_xla/xla/tsl/framework/bfc_allocator.cc:1114] InUse at 70920b600 of size 256 next 30\n",
      "2025-05-29 13:27:00.494562: I external/local_xla/xla/tsl/framework/bfc_allocator.cc:1114] InUse at 70920b700 of size 256 next 31\n",
      "2025-05-29 13:27:00.494563: I external/local_xla/xla/tsl/framework/bfc_allocator.cc:1114] InUse at 70920b800 of size 256 next 32\n",
      "2025-05-29 13:27:00.494565: I external/local_xla/xla/tsl/framework/bfc_allocator.cc:1114] InUse at 70920b900 of size 4608 next 33\n",
      "2025-05-29 13:27:00.494566: I external/local_xla/xla/tsl/framework/bfc_allocator.cc:1114] InUse at 70920cb00 of size 512 next 34\n",
      "2025-05-29 13:27:00.494567: I external/local_xla/xla/tsl/framework/bfc_allocator.cc:1114] InUse at 70920cd00 of size 512 next 35\n",
      "2025-05-29 13:27:00.494569: I external/local_xla/xla/tsl/framework/bfc_allocator.cc:1114] InUse at 70920cf00 of size 512 next 36\n",
      "2025-05-29 13:27:00.494570: I external/local_xla/xla/tsl/framework/bfc_allocator.cc:1114] InUse at 70920d100 of size 65536 next 37\n",
      "2025-05-29 13:27:00.494572: I external/local_xla/xla/tsl/framework/bfc_allocator.cc:1114] InUse at 70921d100 of size 512 next 38\n",
      "2025-05-29 13:27:00.494573: I external/local_xla/xla/tsl/framework/bfc_allocator.cc:1114] InUse at 70921d300 of size 512 next 39\n",
      "2025-05-29 13:27:00.494574: I external/local_xla/xla/tsl/framework/bfc_allocator.cc:1114] InUse at 70921d500 of size 512 next 40\n",
      "2025-05-29 13:27:00.494576: I external/local_xla/xla/tsl/framework/bfc_allocator.cc:1114] InUse at 70921d700 of size 4608 next 41\n",
      "2025-05-29 13:27:00.494577: I external/local_xla/xla/tsl/framework/bfc_allocator.cc:1114] InUse at 70921e900 of size 512 next 42\n",
      "2025-05-29 13:27:00.494579: I external/local_xla/xla/tsl/framework/bfc_allocator.cc:1114] InUse at 70921eb00 of size 512 next 43\n",
      "2025-05-29 13:27:00.494580: I external/local_xla/xla/tsl/framework/bfc_allocator.cc:1114] InUse at 70921ed00 of size 512 next 44\n",
      "2025-05-29 13:27:00.494581: I external/local_xla/xla/tsl/framework/bfc_allocator.cc:1114] InUse at 70921ef00 of size 131072 next 45\n",
      "2025-05-29 13:27:00.494583: I external/local_xla/xla/tsl/framework/bfc_allocator.cc:1114] InUse at 70923ef00 of size 1024 next 46\n",
      "2025-05-29 13:27:00.494584: I external/local_xla/xla/tsl/framework/bfc_allocator.cc:1114] InUse at 70923f300 of size 1024 next 47\n",
      "2025-05-29 13:27:00.494585: I external/local_xla/xla/tsl/framework/bfc_allocator.cc:1114] InUse at 70923f700 of size 1024 next 48\n",
      "2025-05-29 13:27:00.494587: I external/local_xla/xla/tsl/framework/bfc_allocator.cc:1114] InUse at 70923fb00 of size 9216 next 49\n",
      "2025-05-29 13:27:00.494588: I external/local_xla/xla/tsl/framework/bfc_allocator.cc:1114] InUse at 709241f00 of size 1024 next 50\n",
      "2025-05-29 13:27:00.494590: I external/local_xla/xla/tsl/framework/bfc_allocator.cc:1114] InUse at 709242300 of size 1024 next 51\n",
      "2025-05-29 13:27:00.494591: I external/local_xla/xla/tsl/framework/bfc_allocator.cc:1114] InUse at 709242700 of size 1024 next 52\n",
      "2025-05-29 13:27:00.494593: I external/local_xla/xla/tsl/framework/bfc_allocator.cc:1114] InUse at 709242b00 of size 1280 next 53\n",
      "2025-05-29 13:27:00.494594: I external/local_xla/xla/tsl/framework/bfc_allocator.cc:1114] InUse at 709243000 of size 262144 next 54\n",
      "2025-05-29 13:27:00.494596: I external/local_xla/xla/tsl/framework/bfc_allocator.cc:1114] InUse at 709283000 of size 1024 next 55\n",
      "2025-05-29 13:27:00.494597: I external/local_xla/xla/tsl/framework/bfc_allocator.cc:1114] InUse at 709283400 of size 1024 next 56\n",
      "2025-05-29 13:27:00.494599: I external/local_xla/xla/tsl/framework/bfc_allocator.cc:1114] InUse at 709283800 of size 1024 next 57\n",
      "2025-05-29 13:27:00.494600: I external/local_xla/xla/tsl/framework/bfc_allocator.cc:1114] InUse at 709283c00 of size 9216 next 58\n",
      "2025-05-29 13:27:00.494601: I external/local_xla/xla/tsl/framework/bfc_allocator.cc:1114] InUse at 709286000 of size 1024 next 59\n",
      "2025-05-29 13:27:00.494603: I external/local_xla/xla/tsl/framework/bfc_allocator.cc:1114] InUse at 709286400 of size 1024 next 60\n",
      "2025-05-29 13:27:00.494604: I external/local_xla/xla/tsl/framework/bfc_allocator.cc:1114] InUse at 709286800 of size 1024 next 61\n",
      "2025-05-29 13:27:00.494605: I external/local_xla/xla/tsl/framework/bfc_allocator.cc:1114] InUse at 709286c00 of size 524288 next 62\n",
      "2025-05-29 13:27:00.494607: I external/local_xla/xla/tsl/framework/bfc_allocator.cc:1114] InUse at 709306c00 of size 2048 next 63\n",
      "2025-05-29 13:27:00.494608: I external/local_xla/xla/tsl/framework/bfc_allocator.cc:1114] InUse at 709307400 of size 2048 next 64\n",
      "2025-05-29 13:27:00.494610: I external/local_xla/xla/tsl/framework/bfc_allocator.cc:1114] InUse at 709307c00 of size 2048 next 65\n",
      "2025-05-29 13:27:00.494611: I external/local_xla/xla/tsl/framework/bfc_allocator.cc:1114] InUse at 709308400 of size 18432 next 66\n",
      "2025-05-29 13:27:00.494613: I external/local_xla/xla/tsl/framework/bfc_allocator.cc:1114] InUse at 70930cc00 of size 2048 next 67\n",
      "2025-05-29 13:27:00.494614: I external/local_xla/xla/tsl/framework/bfc_allocator.cc:1114] InUse at 70930d400 of size 2048 next 68\n",
      "2025-05-29 13:27:00.494615: I external/local_xla/xla/tsl/framework/bfc_allocator.cc:1114] InUse at 70930dc00 of size 2048 next 69\n",
      "2025-05-29 13:27:00.494617: I external/local_xla/xla/tsl/framework/bfc_allocator.cc:1114] InUse at 70930e400 of size 2048 next 72\n",
      "2025-05-29 13:27:00.494618: I external/local_xla/xla/tsl/framework/bfc_allocator.cc:1114] InUse at 70930ec00 of size 2048 next 73\n",
      "2025-05-29 13:27:00.494619: I external/local_xla/xla/tsl/framework/bfc_allocator.cc:1114] InUse at 70930f400 of size 2048 next 74\n",
      "2025-05-29 13:27:00.494621: I external/local_xla/xla/tsl/framework/bfc_allocator.cc:1114] InUse at 70930fc00 of size 256 next 75\n",
      "2025-05-29 13:27:00.494622: I external/local_xla/xla/tsl/framework/bfc_allocator.cc:1114] InUse at 70930fd00 of size 256 next 76\n",
      "2025-05-29 13:27:00.494623: I external/local_xla/xla/tsl/framework/bfc_allocator.cc:1114] InUse at 70930fe00 of size 256 next 77\n",
      "2025-05-29 13:27:00.494625: I external/local_xla/xla/tsl/framework/bfc_allocator.cc:1114] InUse at 70930ff00 of size 18432 next 78\n",
      "2025-05-29 13:27:00.494626: I external/local_xla/xla/tsl/framework/bfc_allocator.cc:1114] InUse at 709314700 of size 2048 next 79\n",
      "2025-05-29 13:27:00.494627: I external/local_xla/xla/tsl/framework/bfc_allocator.cc:1114] InUse at 709314f00 of size 2048 next 80\n",
      "2025-05-29 13:27:00.494629: I external/local_xla/xla/tsl/framework/bfc_allocator.cc:1114] InUse at 709315700 of size 2048 next 81\n",
      "2025-05-29 13:27:00.494630: I external/local_xla/xla/tsl/framework/bfc_allocator.cc:1114] InUse at 709315f00 of size 2048 next 83\n",
      "2025-05-29 13:27:00.494632: I external/local_xla/xla/tsl/framework/bfc_allocator.cc:1114] InUse at 709316700 of size 2048 next 84\n",
      "2025-05-29 13:27:00.494633: I external/local_xla/xla/tsl/framework/bfc_allocator.cc:1114] InUse at 709316f00 of size 2048 next 85\n",
      "2025-05-29 13:27:00.494634: I external/local_xla/xla/tsl/framework/bfc_allocator.cc:1114] InUse at 709317700 of size 18432 next 86\n",
      "2025-05-29 13:27:00.494637: I external/local_xla/xla/tsl/framework/bfc_allocator.cc:1114] InUse at 70931bf00 of size 2048 next 87\n",
      "2025-05-29 13:27:00.494638: I external/local_xla/xla/tsl/framework/bfc_allocator.cc:1114] InUse at 70931c700 of size 2048 next 88\n",
      "2025-05-29 13:27:00.494640: I external/local_xla/xla/tsl/framework/bfc_allocator.cc:1114] InUse at 70931cf00 of size 2048 next 89\n",
      "2025-05-29 13:27:00.494641: I external/local_xla/xla/tsl/framework/bfc_allocator.cc:1114] InUse at 70931d700 of size 2048 next 91\n",
      "2025-05-29 13:27:00.494642: I external/local_xla/xla/tsl/framework/bfc_allocator.cc:1114] InUse at 70931df00 of size 2048 next 92\n",
      "2025-05-29 13:27:00.494644: I external/local_xla/xla/tsl/framework/bfc_allocator.cc:1114] InUse at 70931e700 of size 2048 next 93\n",
      "2025-05-29 13:27:00.494645: I external/local_xla/xla/tsl/framework/bfc_allocator.cc:1114] InUse at 70931ef00 of size 18432 next 94\n",
      "2025-05-29 13:27:00.494646: I external/local_xla/xla/tsl/framework/bfc_allocator.cc:1114] InUse at 709323700 of size 2048 next 95\n",
      "2025-05-29 13:27:00.494648: I external/local_xla/xla/tsl/framework/bfc_allocator.cc:1114] InUse at 709323f00 of size 2048 next 96\n",
      "2025-05-29 13:27:00.494649: I external/local_xla/xla/tsl/framework/bfc_allocator.cc:1114] InUse at 709324700 of size 2048 next 97\n",
      "2025-05-29 13:27:00.494651: I external/local_xla/xla/tsl/framework/bfc_allocator.cc:1114] InUse at 709324f00 of size 8192 next 98\n",
      "2025-05-29 13:27:00.494652: I external/local_xla/xla/tsl/framework/bfc_allocator.cc:1114] InUse at 709326f00 of size 2048 next 99\n",
      "2025-05-29 13:27:00.494664: I external/local_xla/xla/tsl/framework/bfc_allocator.cc:1114] InUse at 709327700 of size 2048 next 100\n",
      "2025-05-29 13:27:00.494668: I external/local_xla/xla/tsl/framework/bfc_allocator.cc:1114] InUse at 709327f00 of size 2048 next 101\n",
      "2025-05-29 13:27:00.494670: I external/local_xla/xla/tsl/framework/bfc_allocator.cc:1114] InUse at 709328700 of size 18432 next 102\n",
      "2025-05-29 13:27:00.494671: I external/local_xla/xla/tsl/framework/bfc_allocator.cc:1114] InUse at 70932cf00 of size 2048 next 103\n",
      "2025-05-29 13:27:00.494673: I external/local_xla/xla/tsl/framework/bfc_allocator.cc:1114] InUse at 70932d700 of size 2048 next 104\n",
      "2025-05-29 13:27:00.494674: I external/local_xla/xla/tsl/framework/bfc_allocator.cc:1114] InUse at 70932df00 of size 2048 next 105\n",
      "2025-05-29 13:27:00.494675: I external/local_xla/xla/tsl/framework/bfc_allocator.cc:1114] InUse at 70932e700 of size 2048 next 108\n",
      "2025-05-29 13:27:00.494677: I external/local_xla/xla/tsl/framework/bfc_allocator.cc:1114] InUse at 70932ef00 of size 2048 next 109\n",
      "2025-05-29 13:27:00.494678: I external/local_xla/xla/tsl/framework/bfc_allocator.cc:1114] InUse at 70932f700 of size 2048 next 110\n",
      "2025-05-29 13:27:00.494680: I external/local_xla/xla/tsl/framework/bfc_allocator.cc:1114] InUse at 70932ff00 of size 18432 next 111\n",
      "2025-05-29 13:27:00.494681: I external/local_xla/xla/tsl/framework/bfc_allocator.cc:1114] InUse at 709334700 of size 2048 next 112\n",
      "2025-05-29 13:27:00.494682: I external/local_xla/xla/tsl/framework/bfc_allocator.cc:1114] InUse at 709334f00 of size 2048 next 113\n",
      "2025-05-29 13:27:00.494684: I external/local_xla/xla/tsl/framework/bfc_allocator.cc:1114] InUse at 709335700 of size 2048 next 114\n",
      "2025-05-29 13:27:00.494685: I external/local_xla/xla/tsl/framework/bfc_allocator.cc:1114] InUse at 709335f00 of size 4096 next 116\n",
      "2025-05-29 13:27:00.494686: I external/local_xla/xla/tsl/framework/bfc_allocator.cc:1114] InUse at 709336f00 of size 4096 next 117\n",
      "2025-05-29 13:27:00.494688: I external/local_xla/xla/tsl/framework/bfc_allocator.cc:1114] InUse at 709337f00 of size 4096 next 118\n",
      "2025-05-29 13:27:00.494689: I external/local_xla/xla/tsl/framework/bfc_allocator.cc:1114] InUse at 709338f00 of size 256 next 119\n",
      "2025-05-29 13:27:00.494690: I external/local_xla/xla/tsl/framework/bfc_allocator.cc:1114] InUse at 709339000 of size 256 next 120\n",
      "2025-05-29 13:27:00.494692: I external/local_xla/xla/tsl/framework/bfc_allocator.cc:1114] InUse at 709339100 of size 256 next 121\n",
      "2025-05-29 13:27:00.494694: I external/local_xla/xla/tsl/framework/bfc_allocator.cc:1114] InUse at 709339200 of size 36864 next 122\n",
      "2025-05-29 13:27:00.494696: I external/local_xla/xla/tsl/framework/bfc_allocator.cc:1114] InUse at 709342200 of size 4096 next 123\n",
      "2025-05-29 13:27:00.494697: I external/local_xla/xla/tsl/framework/bfc_allocator.cc:1114] InUse at 709343200 of size 4096 next 124\n",
      "2025-05-29 13:27:00.494699: I external/local_xla/xla/tsl/framework/bfc_allocator.cc:1114] InUse at 709344200 of size 4096 next 125\n",
      "2025-05-29 13:27:00.494700: I external/local_xla/xla/tsl/framework/bfc_allocator.cc:1114] InUse at 709345200 of size 4096 next 126\n",
      "2025-05-29 13:27:00.494702: I external/local_xla/xla/tsl/framework/bfc_allocator.cc:1114] InUse at 709346200 of size 4096 next 127\n",
      "2025-05-29 13:27:00.494703: I external/local_xla/xla/tsl/framework/bfc_allocator.cc:1114] InUse at 709347200 of size 4096 next 128\n",
      "2025-05-29 13:27:00.494704: I external/local_xla/xla/tsl/framework/bfc_allocator.cc:1114] InUse at 709348200 of size 2304 next 129\n",
      "2025-05-29 13:27:00.494706: I external/local_xla/xla/tsl/framework/bfc_allocator.cc:1114] InUse at 709348b00 of size 2304 next 132\n",
      "2025-05-29 13:27:00.494707: I external/local_xla/xla/tsl/framework/bfc_allocator.cc:1114] InUse at 709349400 of size 256 next 133\n",
      "2025-05-29 13:27:00.494709: I external/local_xla/xla/tsl/framework/bfc_allocator.cc:1114] InUse at 709349500 of size 256 next 134\n",
      "2025-05-29 13:27:00.494710: I external/local_xla/xla/tsl/framework/bfc_allocator.cc:1114] InUse at 709349600 of size 256 next 135\n",
      "2025-05-29 13:27:00.494711: I external/local_xla/xla/tsl/framework/bfc_allocator.cc:1114] InUse at 709349700 of size 32768 next 136\n",
      "2025-05-29 13:27:00.494713: I external/local_xla/xla/tsl/framework/bfc_allocator.cc:1114] InUse at 709351700 of size 512 next 137\n",
      "2025-05-29 13:27:00.494714: I external/local_xla/xla/tsl/framework/bfc_allocator.cc:1114] InUse at 709351900 of size 512 next 138\n",
      "2025-05-29 13:27:00.494716: I external/local_xla/xla/tsl/framework/bfc_allocator.cc:1114] InUse at 709351b00 of size 512 next 139\n",
      "2025-05-29 13:27:00.494717: I external/local_xla/xla/tsl/framework/bfc_allocator.cc:1114] InUse at 709351d00 of size 256 next 142\n",
      "2025-05-29 13:27:00.494719: I external/local_xla/xla/tsl/framework/bfc_allocator.cc:1114] InUse at 709351e00 of size 1792 next 143\n",
      "2025-05-29 13:27:00.494720: I external/local_xla/xla/tsl/framework/bfc_allocator.cc:1114] InUse at 709352500 of size 256 next 144\n",
      "2025-05-29 13:27:00.494721: I external/local_xla/xla/tsl/framework/bfc_allocator.cc:1114] InUse at 709352600 of size 65792 next 145\n",
      "2025-05-29 13:27:00.494723: I external/local_xla/xla/tsl/framework/bfc_allocator.cc:1114] Free  at 709362700 of size 645376 next 18446744073709551615\n",
      "2025-05-29 13:27:00.494725: I external/local_xla/xla/tsl/framework/bfc_allocator.cc:1094] Next region of size 4194304\n",
      "2025-05-29 13:27:00.494726: I external/local_xla/xla/tsl/framework/bfc_allocator.cc:1114] InUse at 709400000 of size 1048576 next 71\n",
      "2025-05-29 13:27:00.494728: I external/local_xla/xla/tsl/framework/bfc_allocator.cc:1114] InUse at 709500000 of size 1048576 next 82\n",
      "2025-05-29 13:27:00.494729: I external/local_xla/xla/tsl/framework/bfc_allocator.cc:1114] InUse at 709600000 of size 1048576 next 90\n",
      "2025-05-29 13:27:00.494731: I external/local_xla/xla/tsl/framework/bfc_allocator.cc:1114] InUse at 709700000 of size 1048576 next 18446744073709551615\n",
      "2025-05-29 13:27:00.494732: I external/local_xla/xla/tsl/framework/bfc_allocator.cc:1094] Next region of size 8388608\n",
      "2025-05-29 13:27:00.494734: I external/local_xla/xla/tsl/framework/bfc_allocator.cc:1114] InUse at 709800000 of size 1048576 next 107\n",
      "2025-05-29 13:27:00.494735: I external/local_xla/xla/tsl/framework/bfc_allocator.cc:1114] InUse at 709900000 of size 2097152 next 115\n",
      "2025-05-29 13:27:00.494737: I external/local_xla/xla/tsl/framework/bfc_allocator.cc:1114] InUse at 709b00000 of size 5242880 next 18446744073709551615\n",
      "2025-05-29 13:27:00.494738: I external/local_xla/xla/tsl/framework/bfc_allocator.cc:1094] Next region of size 16777216\n",
      "2025-05-29 13:27:00.494740: I external/local_xla/xla/tsl/framework/bfc_allocator.cc:1114] InUse at 70a000000 of size 2134016 next 131\n",
      "2025-05-29 13:27:00.494741: I external/local_xla/xla/tsl/framework/bfc_allocator.cc:1114] Free  at 70a209000 of size 14643200 next 18446744073709551615\n",
      "2025-05-29 13:27:00.494743: I external/local_xla/xla/tsl/framework/bfc_allocator.cc:1094] Next region of size 2147483648\n",
      "2025-05-29 13:27:00.494745: I external/local_xla/xla/tsl/framework/bfc_allocator.cc:1114] InUse at 70b000000 of size 1085928960 next 141\n",
      "2025-05-29 13:27:00.494746: I external/local_xla/xla/tsl/framework/bfc_allocator.cc:1114] Free  at 74bb9f600 of size 1061554688 next 18446744073709551615\n",
      "2025-05-29 13:27:00.494747: I external/local_xla/xla/tsl/framework/bfc_allocator.cc:1094] Next region of size 2147483648\n",
      "2025-05-29 13:27:00.494749: I external/local_xla/xla/tsl/framework/bfc_allocator.cc:1114] InUse at 78b000000 of size 1085953024 next 147\n",
      "2025-05-29 13:27:00.494750: I external/local_xla/xla/tsl/framework/bfc_allocator.cc:1114] InUse at 7cbba5400 of size 33936128 next 148\n",
      "2025-05-29 13:27:00.494752: I external/local_xla/xla/tsl/framework/bfc_allocator.cc:1114] Free  at 7cdc02700 of size 1027594496 next 18446744073709551615\n",
      "2025-05-29 13:27:00.494753: I external/local_xla/xla/tsl/framework/bfc_allocator.cc:1119]      Summary of in-use Chunks by size: \n",
      "2025-05-29 13:27:00.494757: I external/local_xla/xla/tsl/framework/bfc_allocator.cc:1122] 18 Chunks of size 256 totalling 4.5KiB\n",
      "2025-05-29 13:27:00.494759: I external/local_xla/xla/tsl/framework/bfc_allocator.cc:1122] 16 Chunks of size 512 totalling 8.0KiB\n",
      "2025-05-29 13:27:00.494761: I external/local_xla/xla/tsl/framework/bfc_allocator.cc:1122] 16 Chunks of size 1024 totalling 16.0KiB\n",
      "2025-05-29 13:27:00.494763: I external/local_xla/xla/tsl/framework/bfc_allocator.cc:1122] 3 Chunks of size 1280 totalling 3.8KiB\n",
      "2025-05-29 13:27:00.494765: I external/local_xla/xla/tsl/framework/bfc_allocator.cc:1122] 1 Chunks of size 1792 totalling 1.8KiB\n",
      "2025-05-29 13:27:00.494767: I external/local_xla/xla/tsl/framework/bfc_allocator.cc:1122] 48 Chunks of size 2048 totalling 96.0KiB\n",
      "2025-05-29 13:27:00.494768: I external/local_xla/xla/tsl/framework/bfc_allocator.cc:1122] 2 Chunks of size 2304 totalling 4.5KiB\n",
      "2025-05-29 13:27:00.494770: I external/local_xla/xla/tsl/framework/bfc_allocator.cc:1122] 12 Chunks of size 4096 totalling 48.0KiB\n",
      "2025-05-29 13:27:00.494772: I external/local_xla/xla/tsl/framework/bfc_allocator.cc:1122] 2 Chunks of size 4608 totalling 9.0KiB\n",
      "2025-05-29 13:27:00.494774: I external/local_xla/xla/tsl/framework/bfc_allocator.cc:1122] 1 Chunks of size 8192 totalling 8.0KiB\n",
      "2025-05-29 13:27:00.494776: I external/local_xla/xla/tsl/framework/bfc_allocator.cc:1122] 2 Chunks of size 9216 totalling 18.0KiB\n",
      "2025-05-29 13:27:00.494777: I external/local_xla/xla/tsl/framework/bfc_allocator.cc:1122] 6 Chunks of size 18432 totalling 108.0KiB\n",
      "2025-05-29 13:27:00.494779: I external/local_xla/xla/tsl/framework/bfc_allocator.cc:1122] 1 Chunks of size 32768 totalling 32.0KiB\n",
      "2025-05-29 13:27:00.494781: I external/local_xla/xla/tsl/framework/bfc_allocator.cc:1122] 1 Chunks of size 36864 totalling 36.0KiB\n",
      "2025-05-29 13:27:00.494783: I external/local_xla/xla/tsl/framework/bfc_allocator.cc:1122] 1 Chunks of size 65536 totalling 64.0KiB\n",
      "2025-05-29 13:27:00.494785: I external/local_xla/xla/tsl/framework/bfc_allocator.cc:1122] 1 Chunks of size 65792 totalling 64.2KiB\n",
      "2025-05-29 13:27:00.494787: I external/local_xla/xla/tsl/framework/bfc_allocator.cc:1122] 1 Chunks of size 131072 totalling 128.0KiB\n",
      "2025-05-29 13:27:00.494788: I external/local_xla/xla/tsl/framework/bfc_allocator.cc:1122] 1 Chunks of size 262144 totalling 256.0KiB\n",
      "2025-05-29 13:27:00.494790: I external/local_xla/xla/tsl/framework/bfc_allocator.cc:1122] 1 Chunks of size 524288 totalling 512.0KiB\n",
      "2025-05-29 13:27:00.494793: I external/local_xla/xla/tsl/framework/bfc_allocator.cc:1122] 5 Chunks of size 1048576 totalling 5.00MiB\n",
      "2025-05-29 13:27:00.494794: I external/local_xla/xla/tsl/framework/bfc_allocator.cc:1122] 1 Chunks of size 2097152 totalling 2.00MiB\n",
      "2025-05-29 13:27:00.494796: I external/local_xla/xla/tsl/framework/bfc_allocator.cc:1122] 1 Chunks of size 2134016 totalling 2.04MiB\n",
      "2025-05-29 13:27:00.494798: I external/local_xla/xla/tsl/framework/bfc_allocator.cc:1122] 1 Chunks of size 5242880 totalling 5.00MiB\n",
      "2025-05-29 13:27:00.494800: I external/local_xla/xla/tsl/framework/bfc_allocator.cc:1122] 1 Chunks of size 33936128 totalling 32.36MiB\n",
      "2025-05-29 13:27:00.494801: I external/local_xla/xla/tsl/framework/bfc_allocator.cc:1122] 1 Chunks of size 1085928960 totalling 1.01GiB\n",
      "2025-05-29 13:27:00.494803: I external/local_xla/xla/tsl/framework/bfc_allocator.cc:1122] 1 Chunks of size 1085953024 totalling 1.01GiB\n",
      "2025-05-29 13:27:00.494805: I external/local_xla/xla/tsl/framework/bfc_allocator.cc:1126] Sum Total of in-use chunks: 2.07GiB\n",
      "2025-05-29 13:27:00.494807: I external/local_xla/xla/tsl/framework/bfc_allocator.cc:1128] Total bytes in pool: 4326424576 memory_limit_: 5834276864 available bytes: 1507852288 curr_region_allocation_bytes_: 4294967296\n",
      "2025-05-29 13:27:00.494811: I external/local_xla/xla/tsl/framework/bfc_allocator.cc:1133] Stats: \n",
      "Limit:                      5834276864\n",
      "InUse:                      2221986816\n",
      "MaxInUse:                   2221986816\n",
      "NumAllocs:                         148\n",
      "MaxAllocSize:               1085953024\n",
      "Reserved:                            0\n",
      "PeakReserved:                        0\n",
      "LargestFreeBlock:                    0\n",
      "\n",
      "2025-05-29 13:27:00.494817: W external/local_xla/xla/tsl/framework/bfc_allocator.cc:512] **************************________________________***************************_______________________\n",
      "2025-05-29 13:27:00.494832: W tensorflow/core/framework/op_kernel.cc:1857] OP_REQUIRES failed at gather_op.cc:161 : RESOURCE_EXHAUSTED: OOM when allocating tensor with shape[1696800,5,80] and type float on /job:localhost/replica:0/task:0/device:GPU:0 by allocator GPU_0_bfc\n",
      "2025-05-29 13:27:00.494846: I tensorflow/core/framework/local_rendezvous.cc:407] Local rendezvous is aborting with status: RESOURCE_EXHAUSTED: OOM when allocating tensor with shape[1696800,5,80] and type float on /job:localhost/replica:0/task:0/device:GPU:0 by allocator GPU_0_bfc\n",
      "\t [[{{node yamnet_frames/tf_op_layer_GatherV2/GatherV2}}]]\n",
      "Hint: If you want to see a list of allocated tensors when OOM happens, add report_tensor_allocations_upon_oom to RunOptions for current allocation info. This isn't available when running in Eager mode.\n",
      "\n"
     ]
    },
    {
     "ename": "ResourceExhaustedError",
     "evalue": "Graph execution error:\n\nDetected at node yamnet_frames/tf_op_layer_GatherV2/GatherV2 defined at (most recent call last):\n<stack traces unavailable>\nOOM when allocating tensor with shape[1696800,5,80] and type float on /job:localhost/replica:0/task:0/device:GPU:0 by allocator GPU_0_bfc\n\t [[{{node yamnet_frames/tf_op_layer_GatherV2/GatherV2}}]]\nHint: If you want to see a list of allocated tensors when OOM happens, add report_tensor_allocations_upon_oom to RunOptions for current allocation info. This isn't available when running in Eager mode.\n [Op:__inference_restored_function_body_15206]",
     "output_type": "error",
     "traceback": [
      "\u001b[0;31m---------------------------------------------------------------------------\u001b[0m",
      "\u001b[0;31mResourceExhaustedError\u001b[0m                    Traceback (most recent call last)",
      "Cell \u001b[0;32mIn[3], line 1\u001b[0m\n\u001b[0;32m----> 1\u001b[0m laugh_segments \u001b[38;5;241m=\u001b[39m \u001b[43mdetect_laughs_yamnet\u001b[49m\u001b[43m(\u001b[49m\u001b[43maudio_file\u001b[49m\u001b[43m)\u001b[49m\n",
      "Cell \u001b[0;32mIn[1], line 33\u001b[0m, in \u001b[0;36mdetect_laughs_yamnet\u001b[0;34m(audio_path, threshold)\u001b[0m\n\u001b[1;32m     31\u001b[0m \u001b[38;5;66;03m# Run inference on GPU\u001b[39;00m\n\u001b[1;32m     32\u001b[0m \u001b[38;5;28;01mwith\u001b[39;00m tf\u001b[38;5;241m.\u001b[39mdevice(\u001b[38;5;124m'\u001b[39m\u001b[38;5;124m/GPU:0\u001b[39m\u001b[38;5;124m'\u001b[39m):\n\u001b[0;32m---> 33\u001b[0m     scores, embeddings, spectrogram \u001b[38;5;241m=\u001b[39m \u001b[43mmodel\u001b[49m\u001b[43m(\u001b[49m\u001b[43maudio\u001b[49m\u001b[43m)\u001b[49m\n\u001b[1;32m     35\u001b[0m \u001b[38;5;66;03m# Get class names\u001b[39;00m\n\u001b[1;32m     36\u001b[0m class_names \u001b[38;5;241m=\u001b[39m model\u001b[38;5;241m.\u001b[39mclass_names()\u001b[38;5;241m.\u001b[39mnumpy()\n",
      "File \u001b[0;32m/mnt/d/Projects/envs/sfce/lib/python3.10/site-packages/tensorflow/python/saved_model/load.py:817\u001b[0m, in \u001b[0;36m_call_attribute\u001b[0;34m(instance, *args, **kwargs)\u001b[0m\n\u001b[1;32m    816\u001b[0m \u001b[38;5;28;01mdef\u001b[39;00m\u001b[38;5;250m \u001b[39m\u001b[38;5;21m_call_attribute\u001b[39m(instance, \u001b[38;5;241m*\u001b[39margs, \u001b[38;5;241m*\u001b[39m\u001b[38;5;241m*\u001b[39mkwargs):\n\u001b[0;32m--> 817\u001b[0m   \u001b[38;5;28;01mreturn\u001b[39;00m \u001b[43minstance\u001b[49m\u001b[38;5;241;43m.\u001b[39;49m\u001b[38;5;21;43m__call__\u001b[39;49m\u001b[43m(\u001b[49m\u001b[38;5;241;43m*\u001b[39;49m\u001b[43margs\u001b[49m\u001b[43m,\u001b[49m\u001b[43m \u001b[49m\u001b[38;5;241;43m*\u001b[39;49m\u001b[38;5;241;43m*\u001b[39;49m\u001b[43mkwargs\u001b[49m\u001b[43m)\u001b[49m\n",
      "File \u001b[0;32m/mnt/d/Projects/envs/sfce/lib/python3.10/site-packages/tensorflow/python/util/traceback_utils.py:153\u001b[0m, in \u001b[0;36mfilter_traceback.<locals>.error_handler\u001b[0;34m(*args, **kwargs)\u001b[0m\n\u001b[1;32m    151\u001b[0m \u001b[38;5;28;01mexcept\u001b[39;00m \u001b[38;5;167;01mException\u001b[39;00m \u001b[38;5;28;01mas\u001b[39;00m e:\n\u001b[1;32m    152\u001b[0m   filtered_tb \u001b[38;5;241m=\u001b[39m _process_traceback_frames(e\u001b[38;5;241m.\u001b[39m__traceback__)\n\u001b[0;32m--> 153\u001b[0m   \u001b[38;5;28;01mraise\u001b[39;00m e\u001b[38;5;241m.\u001b[39mwith_traceback(filtered_tb) \u001b[38;5;28;01mfrom\u001b[39;00m\u001b[38;5;250m \u001b[39m\u001b[38;5;28;01mNone\u001b[39;00m\n\u001b[1;32m    154\u001b[0m \u001b[38;5;28;01mfinally\u001b[39;00m:\n\u001b[1;32m    155\u001b[0m   \u001b[38;5;28;01mdel\u001b[39;00m filtered_tb\n",
      "File \u001b[0;32m/mnt/d/Projects/envs/sfce/lib/python3.10/site-packages/tensorflow/python/eager/execute.py:53\u001b[0m, in \u001b[0;36mquick_execute\u001b[0;34m(op_name, num_outputs, inputs, attrs, ctx, name)\u001b[0m\n\u001b[1;32m     51\u001b[0m \u001b[38;5;28;01mtry\u001b[39;00m:\n\u001b[1;32m     52\u001b[0m   ctx\u001b[38;5;241m.\u001b[39mensure_initialized()\n\u001b[0;32m---> 53\u001b[0m   tensors \u001b[38;5;241m=\u001b[39m pywrap_tfe\u001b[38;5;241m.\u001b[39mTFE_Py_Execute(ctx\u001b[38;5;241m.\u001b[39m_handle, device_name, op_name,\n\u001b[1;32m     54\u001b[0m                                       inputs, attrs, num_outputs)\n\u001b[1;32m     55\u001b[0m \u001b[38;5;28;01mexcept\u001b[39;00m core\u001b[38;5;241m.\u001b[39m_NotOkStatusException \u001b[38;5;28;01mas\u001b[39;00m e:\n\u001b[1;32m     56\u001b[0m   \u001b[38;5;28;01mif\u001b[39;00m name \u001b[38;5;129;01mis\u001b[39;00m \u001b[38;5;129;01mnot\u001b[39;00m \u001b[38;5;28;01mNone\u001b[39;00m:\n",
      "\u001b[0;31mResourceExhaustedError\u001b[0m: Graph execution error:\n\nDetected at node yamnet_frames/tf_op_layer_GatherV2/GatherV2 defined at (most recent call last):\n<stack traces unavailable>\nOOM when allocating tensor with shape[1696800,5,80] and type float on /job:localhost/replica:0/task:0/device:GPU:0 by allocator GPU_0_bfc\n\t [[{{node yamnet_frames/tf_op_layer_GatherV2/GatherV2}}]]\nHint: If you want to see a list of allocated tensors when OOM happens, add report_tensor_allocations_upon_oom to RunOptions for current allocation info. This isn't available when running in Eager mode.\n [Op:__inference_restored_function_body_15206]"
     ]
    }
   ],
   "source": [
    "laugh_segments = detect_laughs_yamnet(audio_file)"
   ]
  },
  {
   "cell_type": "code",
   "execution_count": 4,
   "metadata": {},
   "outputs": [],
   "source": [
    "audio, sr = librosa.load(audio_file, sr=16000)  # YAMNet expects 16kHz\n",
    "audio = tf.convert_to_tensor(audio, dtype=tf.float32)  # Convert to TensorFlow tensor\n",
    "    "
   ]
  },
  {
   "cell_type": "code",
   "execution_count": 5,
   "metadata": {},
   "outputs": [
    {
     "data": {
      "text/plain": [
       "<tf.Tensor: shape=(271482197,), dtype=float32, numpy=array([0., 0., 0., ..., 0., 0., 0.], dtype=float32)>"
      ]
     },
     "execution_count": 5,
     "metadata": {},
     "output_type": "execute_result"
    }
   ],
   "source": [
    "audio"
   ]
  },
  {
   "cell_type": "code",
   "execution_count": 3,
   "metadata": {},
   "outputs": [],
   "source": [
    "with tf.device('/GPU:0'):\n",
    "    model = hub.load('https://tfhub.dev/google/yamnet/1')\n",
    "\n",
    "class_map_path = model.class_map_path().numpy()"
   ]
  },
  {
   "cell_type": "code",
   "execution_count": 4,
   "metadata": {},
   "outputs": [
    {
     "data": {
      "text/plain": [
       "b'/tmp/tfhub_modules/9616fd04ec2360621642ef9455b84f4b668e219e/assets/yamnet_class_map.csv'"
      ]
     },
     "execution_count": 4,
     "metadata": {},
     "output_type": "execute_result"
    }
   ],
   "source": [
    "class_map_path"
   ]
  },
  {
   "cell_type": "code",
   "execution_count": 6,
   "metadata": {},
   "outputs": [],
   "source": [
    "import io\n",
    "class_map_csv = io.StringIO(tf.io.read_file(class_map_path).numpy().decode('utf-8'))"
   ]
  },
  {
   "cell_type": "code",
   "execution_count": 7,
   "metadata": {},
   "outputs": [
    {
     "data": {
      "text/plain": [
       "<_io.StringIO at 0x777612608310>"
      ]
     },
     "execution_count": 7,
     "metadata": {},
     "output_type": "execute_result"
    }
   ],
   "source": [
    "class_map_csv"
   ]
  },
  {
   "cell_type": "code",
   "execution_count": 9,
   "metadata": {},
   "outputs": [],
   "source": [
    "import csv\n",
    "class_names = [display_name for (class_index, mid, display_name) in csv.reader(class_map_csv)]"
   ]
  },
  {
   "cell_type": "code",
   "execution_count": 10,
   "metadata": {},
   "outputs": [
    {
     "ename": "NameError",
     "evalue": "name 'class_names' is not defined",
     "output_type": "error",
     "traceback": [
      "\u001b[0;31m---------------------------------------------------------------------------\u001b[0m",
      "\u001b[0;31mNameError\u001b[0m                                 Traceback (most recent call last)",
      "Cell \u001b[0;32mIn[10], line 1\u001b[0m\n\u001b[0;32m----> 1\u001b[0m \u001b[43mclass_names\u001b[49m\n",
      "\u001b[0;31mNameError\u001b[0m: name 'class_names' is not defined"
     ]
    }
   ],
   "source": [
    "class_names"
   ]
  },
  {
   "cell_type": "code",
   "execution_count": 12,
   "metadata": {},
   "outputs": [
    {
     "data": {
      "text/plain": [
       "[14, 15, 18]"
      ]
     },
     "execution_count": 12,
     "metadata": {},
     "output_type": "execute_result"
    }
   ],
   "source": [
    "laugh_indices = [i for i, name in enumerate(class_names) if 'laugh' in name.lower()]\n",
    "laugh_indices"
   ]
  },
  {
   "cell_type": "code",
   "execution_count": null,
   "metadata": {},
   "outputs": [
    {
     "name": "stderr",
     "output_type": "stream",
     "text": [
      "2025-07-22 21:48:01.511403: E external/local_xla/xla/stream_executor/cuda/cuda_fft.cc:467] Unable to register cuFFT factory: Attempting to register factory for plugin cuFFT when one has already been registered\n",
      "WARNING: All log messages before absl::InitializeLog() is called are written to STDERR\n",
      "E0000 00:00:1753213682.096327   24710 cuda_dnn.cc:8579] Unable to register cuDNN factory: Attempting to register factory for plugin cuDNN when one has already been registered\n",
      "E0000 00:00:1753213682.258470   24710 cuda_blas.cc:1407] Unable to register cuBLAS factory: Attempting to register factory for plugin cuBLAS when one has already been registered\n",
      "W0000 00:00:1753213683.955011   24710 computation_placer.cc:177] computation placer already registered. Please check linkage and avoid linking the same target more than once.\n",
      "W0000 00:00:1753213683.955036   24710 computation_placer.cc:177] computation placer already registered. Please check linkage and avoid linking the same target more than once.\n",
      "W0000 00:00:1753213683.955038   24710 computation_placer.cc:177] computation placer already registered. Please check linkage and avoid linking the same target more than once.\n",
      "W0000 00:00:1753213683.955039   24710 computation_placer.cc:177] computation placer already registered. Please check linkage and avoid linking the same target more than once.\n",
      "2025-07-22 21:48:04.181871: I tensorflow/core/platform/cpu_feature_guard.cc:210] This TensorFlow binary is optimized to use available CPU instructions in performance-critical operations.\n",
      "To enable the following instructions: AVX2 FMA, in other operations, rebuild TensorFlow with the appropriate compiler flags.\n",
      "Analyzing emotions:   0%|          | 0/120 [00:00<?, ?it/s]INFO: Created TensorFlow Lite XNNPACK delegate for CPU.\n",
      "WARNING: All log messages before absl::InitializeLog() is called are written to STDERR\n",
      "W0000 00:00:1753213760.723088   25146 inference_feedback_manager.cc:114] Feedback manager requires a model with a single signature inference. Disabling support for feedback tensors.\n",
      "Analyzing emotions: 100%|██████████| 120/120 [02:55<00:00,  1.46s/it]\n"
     ]
    }
   ],
   "source": [
    "import sys\n",
    "import os\n",
    "# Add the parent directory to Python path so we can import from utils\n",
    "sys.path.append(os.path.dirname(os.getcwd()))\n",
    "\n",
    "from utils.video import analyze_video_emotions\n",
    "# Analyze only first 10 seconds\n",
    "result = analyze_video_emotions(\"/mnt/d/Projects/twitch_videos/twitch_2465574148.mp4\", interval_sec=5, time_period=\"10:00-20:00\")"
   ]
  },
  {
   "cell_type": "code",
   "execution_count": 2,
   "metadata": {},
   "outputs": [
    {
     "data": {
      "text/plain": [
       "{'video_id': 'twitch_2465574148',\n",
       " 'emotion_segments': {'10:00': 'surprised',\n",
       "  '10:05': 'neutral',\n",
       "  '10:10': 'neutral',\n",
       "  '10:15': 'neutral',\n",
       "  '10:20': 'neutral',\n",
       "  '10:25': 'neutral',\n",
       "  '10:30': 'neutral',\n",
       "  '10:35': 'surprised',\n",
       "  '10:40': 'surprised',\n",
       "  '10:45': 'surprised',\n",
       "  '10:50': 'surprised',\n",
       "  '10:55': 'happy',\n",
       "  '11:00': 'neutral',\n",
       "  '11:05': 'neutral',\n",
       "  '11:10': 'neutral',\n",
       "  '11:15': 'neutral',\n",
       "  '11:20': 'neutral',\n",
       "  '11:25': 'neutral',\n",
       "  '11:30': 'neutral',\n",
       "  '11:35': 'neutral',\n",
       "  '11:40': 'neutral',\n",
       "  '11:45': 'neutral',\n",
       "  '11:50': 'neutral',\n",
       "  '11:55': 'surprised',\n",
       "  '12:00': 'neutral',\n",
       "  '12:05': 'neutral',\n",
       "  '12:10': 'neutral',\n",
       "  '12:15': 'neutral',\n",
       "  '12:20': 'neutral',\n",
       "  '12:25': 'surprised',\n",
       "  '12:30': 'surprised',\n",
       "  '12:35': 'neutral',\n",
       "  '12:40': 'neutral',\n",
       "  '12:45': 'angry',\n",
       "  '12:50': 'neutral',\n",
       "  '12:55': 'neutral',\n",
       "  '13:00': 'surprised',\n",
       "  '13:05': 'neutral',\n",
       "  '13:10': 'surprised',\n",
       "  '13:15': 'neutral',\n",
       "  '13:20': 'no_face',\n",
       "  '13:25': 'no_face',\n",
       "  '13:30': 'no_face',\n",
       "  '13:35': 'neutral',\n",
       "  '13:40': 'neutral',\n",
       "  '13:45': 'angry',\n",
       "  '13:50': 'neutral',\n",
       "  '13:55': 'neutral',\n",
       "  '14:00': 'neutral',\n",
       "  '14:05': 'neutral',\n",
       "  '14:10': 'surprised',\n",
       "  '14:15': 'neutral',\n",
       "  '14:20': 'surprised',\n",
       "  '14:25': 'neutral',\n",
       "  '14:30': 'happy',\n",
       "  '14:35': 'neutral',\n",
       "  '14:40': 'neutral',\n",
       "  '14:45': 'neutral',\n",
       "  '14:50': 'neutral',\n",
       "  '14:55': 'neutral',\n",
       "  '15:00': 'neutral',\n",
       "  '15:05': 'neutral',\n",
       "  '15:10': 'neutral',\n",
       "  '15:15': 'neutral',\n",
       "  '15:20': 'neutral',\n",
       "  '15:25': 'neutral',\n",
       "  '15:30': 'neutral',\n",
       "  '15:35': 'neutral',\n",
       "  '15:40': 'sad',\n",
       "  '15:45': 'neutral',\n",
       "  '15:50': 'neutral',\n",
       "  '15:55': 'neutral',\n",
       "  '16:00': 'neutral',\n",
       "  '16:05': 'neutral',\n",
       "  '16:10': 'neutral',\n",
       "  '16:15': 'neutral',\n",
       "  '16:20': 'neutral',\n",
       "  '16:25': 'neutral',\n",
       "  '16:30': 'neutral',\n",
       "  '16:35': 'surprised',\n",
       "  '16:40': 'angry',\n",
       "  '16:45': 'angry',\n",
       "  '16:50': 'angry',\n",
       "  '16:55': 'angry',\n",
       "  '17:00': 'contempt',\n",
       "  '17:05': 'neutral',\n",
       "  '17:10': 'neutral',\n",
       "  '17:15': 'surprised',\n",
       "  '17:20': 'surprised',\n",
       "  '17:25': 'surprised',\n",
       "  '17:30': 'surprised',\n",
       "  '17:35': 'angry',\n",
       "  '17:40': 'angry',\n",
       "  '17:45': 'sad',\n",
       "  '17:50': 'sad',\n",
       "  '17:55': 'sad',\n",
       "  '18:00': 'sad',\n",
       "  '18:05': 'neutral',\n",
       "  '18:10': 'neutral',\n",
       "  '18:15': 'contempt',\n",
       "  '18:20': 'surprised',\n",
       "  '18:25': 'surprised',\n",
       "  '18:30': 'neutral',\n",
       "  '18:35': 'neutral',\n",
       "  '18:40': 'angry',\n",
       "  '18:45': 'neutral',\n",
       "  '18:50': 'neutral',\n",
       "  '18:55': 'surprised',\n",
       "  '19:00': 'surprised',\n",
       "  '19:05': 'surprised',\n",
       "  '19:10': 'surprised',\n",
       "  '19:15': 'neutral',\n",
       "  '19:20': 'surprised',\n",
       "  '19:25': 'neutral',\n",
       "  '19:30': 'neutral',\n",
       "  '19:35': 'surprised',\n",
       "  '19:40': 'surprised',\n",
       "  '19:45': 'angry',\n",
       "  '19:50': 'neutral',\n",
       "  '19:55': 'angry'}}"
      ]
     },
     "execution_count": 2,
     "metadata": {},
     "output_type": "execute_result"
    }
   ],
   "source": [
    "result"
   ]
  },
  {
   "cell_type": "code",
   "execution_count": null,
   "metadata": {},
   "outputs": [
    {
     "name": "stdout",
     "output_type": "stream",
     "text": [
      "Checking for existing files in: /mnt/d/Projects/twitch/2465574148\n",
      "✓ chat.txt already exists, skipping download\n",
      "✓ chat_activity.json already exists, skipping processing\n",
      "Selected top 10 segments for transcription:\n",
      "  161:00-161:05: 29 messages\n",
      "  40:00-40:05: 24 messages\n",
      "  161:10-161:15: 24 messages\n",
      "  6:25-6:30: 23 messages\n",
      "  40:55-41:00: 21 messages\n",
      "  161:05-161:10: 21 messages\n",
      "  161:15-161:20: 21 messages\n",
      "  51:10-51:15: 20 messages\n",
      "  253:20-253:25: 20 messages\n",
      "  6:20-6:25: 19 messages\n",
      "Initializing speech-to-text model...\n"
     ]
    },
    {
     "name": "stderr",
     "output_type": "stream",
     "text": [
      "Device set to use cuda:0\n"
     ]
    },
    {
     "name": "stdout",
     "output_type": "stream",
     "text": [
      "Loading audio file: /mnt/d/Projects/twitch/2465574148/twitch_2465574148.wav\n",
      "Transcribing segments...\n",
      "Adding 2 seconds padding before/after each segment for transcription\n"
     ]
    },
    {
     "name": "stderr",
     "output_type": "stream",
     "text": [
      "Processing segments: 100%|██████████| 10/10 [00:03<00:00,  3.12it/s]"
     ]
    },
    {
     "name": "stdout",
     "output_type": "stream",
     "text": [
      "Transcription completed! Results saved to: /mnt/d/Projects/twitch/2465574148/chat_transcriptions.json\n"
     ]
    },
    {
     "name": "stderr",
     "output_type": "stream",
     "text": [
      "\n"
     ]
    }
   ],
   "source": [
    "import sys\n",
    "import os\n",
    "# Add the parent directory to Python path so we can import from utils\n",
    "sys.path.append(os.path.dirname(os.getcwd()))\n",
    "\n",
    "from utils.chat import process_audio_from_chat\n",
    "\n",
    "# Basic usage\n",
    "result = process_audio_from_chat(\n",
    "    vod_url=\"https://www.twitch.tv/videos/2465574148\",\n",
    "    audio_file_path=\"/mnt/d/Projects/twitch/2465574148/twitch_2465574148.wav\",\n",
    "    top_n=10,  # Transcribe top 10 chat activity segments\n",
    "    interval_seconds=5,\n",
    "    audio_padding_seconds=2\n",
    ")\n"
   ]
  },
  {
   "cell_type": "code",
   "execution_count": 3,
   "metadata": {},
   "outputs": [
    {
     "name": "stdout",
     "output_type": "stream",
     "text": [
      "{'message_id': '61cdd654-4603-4f31-b568-9778909c38c0', 'author': {'id': '705575613', 'name': 'youngstanky1', 'display_name': 'youngstanky1', 'badges': [{'name': 'subscriber', 'version': 0, 'title': 'Subscriber', 'clickAction': 'SUBSCRIBE', 'clickURL': None, 'icons': [{'url': 'https://static-cdn.jtvnw.net/badges/v1/a23e8a7a-eddd-4299-9855-bd51c77c0845/1', 'width': 18, 'height': 18, 'id': '18x18'}, {'url': 'https://static-cdn.jtvnw.net/badges/v1/a23e8a7a-eddd-4299-9855-bd51c77c0845/2', 'width': 36, 'height': 36, 'id': '36x36'}, {'url': 'https://static-cdn.jtvnw.net/badges/v1/a23e8a7a-eddd-4299-9855-bd51c77c0845/3', 'width': 72, 'height': 72, 'id': '72x72'}]}, {'name': 'premium', 'version': 1, 'title': 'Prime Gaming', 'clickAction': 'VISIT_URL', 'clickURL': 'https://gaming.amazon.com', 'icons': [{'url': 'https://static-cdn.jtvnw.net/badges/v1/bbbe0db0-a598-423e-86d0-f9fb98ca1933/1', 'width': 18, 'height': 18, 'id': '18x18'}, {'url': 'https://static-cdn.jtvnw.net/badges/v1/bbbe0db0-a598-423e-86d0-f9fb98ca1933/2', 'width': 36, 'height': 36, 'id': '36x36'}, {'url': 'https://static-cdn.jtvnw.net/badges/v1/bbbe0db0-a598-423e-86d0-f9fb98ca1933/3', 'width': 72, 'height': 72, 'id': '72x72'}]}]}, 'time_in_seconds': 23, 'timestamp': 1753105414910000, 'message': 'brotherrrr', 'time_text': '0:23', 'message_type': 'text_message'}\n"
     ]
    }
   ],
   "source": [
    "from chat_downloader import ChatDownloader\n",
    "\n",
    "chat_downloader = ChatDownloader()\n",
    "chat = chat_downloader.get_chat(\"https://www.twitch.tv/videos/2518537772\")\n",
    "\n",
    "for message in chat:\n",
    "    print(message)\n",
    "    break"
   ]
  }
 ],
 "metadata": {
  "kernelspec": {
   "display_name": "Python 3",
   "language": "python",
   "name": "python3"
  },
  "language_info": {
   "codemirror_mode": {
    "name": "ipython",
    "version": 3
   },
   "file_extension": ".py",
   "mimetype": "text/x-python",
   "name": "python",
   "nbconvert_exporter": "python",
   "pygments_lexer": "ipython3",
   "version": "3.10.16"
  }
 },
 "nbformat": 4,
 "nbformat_minor": 2
}
